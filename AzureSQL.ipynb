{
 "cells": [
  {
   "cell_type": "markdown",
   "metadata": {},
   "source": [
    "# Connecting to AZURE MS SQL server"
   ]
  },
  {
   "cell_type": "code",
   "execution_count": 5,
   "metadata": {},
   "outputs": [],
   "source": [
    "import pyodbc \n",
    "import pandas as pd"
   ]
  },
  {
   "cell_type": "markdown",
   "metadata": {},
   "source": [
    "## Login Details"
   ]
  },
  {
   "cell_type": "code",
   "execution_count": 6,
   "metadata": {},
   "outputs": [],
   "source": [
    "server = 'anylogicworkflow.database.windows.net'\n",
    "database = 'anylogicWorkflowDb'\n",
    "username = 'anylogic_admin'\n",
    "password = 'Login123$'\n",
    "driver= '{ODBC Driver 13 for SQL Server}'"
   ]
  },
  {
   "cell_type": "markdown",
   "metadata": {},
   "source": [
    "## Create Table"
   ]
  },
  {
   "cell_type": "markdown",
   "metadata": {},
   "source": [
    "### Create simulationLookUpTable"
   ]
  },
  {
   "cell_type": "code",
   "execution_count": 8,
   "metadata": {},
   "outputs": [
    {
     "ename": "ProgrammingError",
     "evalue": "('42S01', \"[42S01] [Microsoft][ODBC Driver 13 for SQL Server][SQL Server]There is already an object named 'simulationLookUpTable' in the database. (2714) (SQLExecDirectW)\")",
     "output_type": "error",
     "traceback": [
      "\u001b[1;31m---------------------------------------------------------------------------\u001b[0m",
      "\u001b[1;31mProgrammingError\u001b[0m                          Traceback (most recent call last)",
      "\u001b[1;32m<ipython-input-8-033dc66baa2b>\u001b[0m in \u001b[0;36m<module>\u001b[1;34m\u001b[0m\n\u001b[0;32m      6\u001b[0m         \u001b[0mCaseName\u001b[0m \u001b[0mTEXT\u001b[0m \u001b[0mNOT\u001b[0m \u001b[0mNULL\u001b[0m\u001b[1;33m,\u001b[0m\u001b[1;33m\u001b[0m\u001b[1;33m\u001b[0m\u001b[0m\n\u001b[0;32m      7\u001b[0m         Loaded BIT NULL);\n\u001b[1;32m----> 8\u001b[1;33m                ''')\n\u001b[0m\u001b[0;32m      9\u001b[0m \u001b[0mconn\u001b[0m\u001b[1;33m.\u001b[0m\u001b[0mcommit\u001b[0m\u001b[1;33m(\u001b[0m\u001b[1;33m)\u001b[0m\u001b[1;33m\u001b[0m\u001b[1;33m\u001b[0m\u001b[0m\n\u001b[0;32m     10\u001b[0m \u001b[0mconn\u001b[0m\u001b[1;33m.\u001b[0m\u001b[0mclose\u001b[0m\u001b[1;33m(\u001b[0m\u001b[1;33m)\u001b[0m\u001b[1;33m\u001b[0m\u001b[1;33m\u001b[0m\u001b[0m\n",
      "\u001b[1;31mProgrammingError\u001b[0m: ('42S01', \"[42S01] [Microsoft][ODBC Driver 13 for SQL Server][SQL Server]There is already an object named 'simulationLookUpTable' in the database. (2714) (SQLExecDirectW)\")"
     ]
    }
   ],
   "source": [
    "conn = pyodbc.connect('DRIVER='+driver+';SERVER='+server+';PORT=1433;DATABASE='+database+';UID='+username+';PWD='+ password)\n",
    "cursor = conn.cursor()\n",
    "cursor.execute('''\n",
    " CREATE TABLE simulationLookUpTable (\n",
    "        PrimaryKey INTEGER PRIMARY KEY,\n",
    "        CaseName TEXT NOT NULL,\n",
    "        Loaded BIT NULL);\n",
    "               ''')\n",
    "conn.commit()\n",
    "conn.close()\n",
    "print(\"Create Table\")"
   ]
  },
  {
   "cell_type": "markdown",
   "metadata": {},
   "source": [
    "### Create Simulation Inputs"
   ]
  },
  {
   "cell_type": "code",
   "execution_count": 18,
   "metadata": {},
   "outputs": [
    {
     "name": "stdout",
     "output_type": "stream",
     "text": [
      "Create Table\n"
     ]
    }
   ],
   "source": [
    "conn = pyodbc.connect('DRIVER='+driver+';SERVER='+server+';PORT=1433;DATABASE='+database+';UID='+username+';PWD='+ password)\n",
    "cursor = conn.cursor()\n",
    "cursor.execute('''\n",
    " CREATE TABLE simulationInputs(\n",
    "        simulationCase INT NOT NULL,\n",
    "        VariableName TEXT NOT NULL,\n",
    "        SecondaryVariable TEXT NOT NULL,\n",
    "        Value FLOAT NOT NULL);\n",
    "               ''')\n",
    "conn.commit()\n",
    "conn.close()\n",
    "print(\"Create Table\")"
   ]
  },
  {
   "cell_type": "markdown",
   "metadata": {},
   "source": [
    "### Create Output Table"
   ]
  },
  {
   "cell_type": "code",
   "execution_count": null,
   "metadata": {},
   "outputs": [],
   "source": [
    "conn = pyodbc.connect('DRIVER='+driver+';SERVER='+server+';PORT=1433;DATABASE='+database+';UID='+username+';PWD='+ password)\n",
    "cursor = conn.cursor()\n",
    "cursor.execute('''\n",
    " CREATE TABLE simulationOutputs(\n",
    "        simulationCase INT NOT NULL,\n",
    "        VariableName TEXT NOT NULL,\n",
    "        SecondaryVariable TEXT NOT NULL,\n",
    "        Value FLOAT NOT NULL);\n",
    "               ''')\n",
    "conn.commit()\n",
    "conn.close()\n",
    "print(\"Create Table\")"
   ]
  },
  {
   "cell_type": "markdown",
   "metadata": {},
   "source": [
    "## Show SQL Table"
   ]
  },
  {
   "cell_type": "markdown",
   "metadata": {},
   "source": [
    "### Check batch loopkup table"
   ]
  },
  {
   "cell_type": "code",
   "execution_count": 27,
   "metadata": {},
   "outputs": [
    {
     "name": "stdout",
     "output_type": "stream",
     "text": [
      "    PrimaryKey          CaseName  Loaded\n",
      "0            1   SimulationCase1   False\n",
      "1            2   SimulationCase2   False\n",
      "2            3   SimulationCase3   False\n",
      "3            4   SimulationCase4   False\n",
      "4            5   SimulationCase5   False\n",
      "5            6   SimulationCase6   False\n",
      "6            7   SimulationCase7   False\n",
      "7            8   SimulationCase8   False\n",
      "8            9   SimulationCase9   False\n",
      "9           10  SimulationCase10   False\n",
      "10          11  SimulationCase11   False\n",
      "11          12  SimulationCase12   False\n",
      "12          13  SimulationCase13   False\n",
      "13          14  SimulationCase14   False\n",
      "14          15  SimulationCase15   False\n"
     ]
    }
   ],
   "source": [
    "conn = pyodbc.connect('DRIVER='+driver+';SERVER='+server+';PORT=1433;DATABASE='+database+';UID='+username+';PWD='+ password)\n",
    "query = 'SELECT * FROM simulationLookUpTable'\n",
    "df = pd.read_sql(query,conn)\n",
    "print(df)\n",
    "conn.close()"
   ]
  },
  {
   "cell_type": "markdown",
   "metadata": {},
   "source": [
    "### Check simulation inputs"
   ]
  },
  {
   "cell_type": "code",
   "execution_count": 26,
   "metadata": {},
   "outputs": [
    {
     "name": "stdout",
     "output_type": "stream",
     "text": [
      "    simulationCase VariableName SecondaryVariable  Value\n",
      "0                1         MTTF        Equipment1  0.005\n",
      "1                1         MTTF        Equipment2  0.005\n",
      "2                1         MTTR        Equipment3  0.005\n",
      "3                1         MTTR        Equipment4  0.005\n",
      "4                2         MTTF        Equipment1  0.005\n",
      "5                2         MTTF        Equipment2  0.005\n",
      "6                2         MTTR        Equipment3  0.005\n",
      "7                2         MTTR        Equipment4  0.005\n",
      "8                3         MTTF        Equipment1  0.005\n",
      "9                3         MTTF        Equipment2  0.005\n",
      "10               3         MTTR        Equipment3  0.005\n",
      "11               3         MTTR        Equipment4  0.005\n",
      "12               4         MTTF        Equipment1  0.005\n",
      "13               4         MTTF        Equipment2  0.005\n",
      "14               4         MTTR        Equipment3  0.005\n",
      "15               4         MTTR        Equipment4  0.005\n",
      "16               5         MTTF        Equipment1  0.005\n",
      "17               5         MTTF        Equipment2  0.005\n",
      "18               5         MTTR        Equipment3  0.005\n",
      "19               5         MTTR        Equipment4  0.005\n",
      "20               6         MTTF        Equipment1  0.005\n",
      "21               6         MTTF        Equipment2  0.005\n",
      "22               6         MTTR        Equipment3  0.005\n",
      "23               6         MTTR        Equipment4  0.005\n",
      "24               7         MTTF        Equipment1  0.005\n",
      "25               7         MTTF        Equipment2  0.005\n",
      "26               7         MTTR        Equipment3  0.005\n",
      "27               7         MTTR        Equipment4  0.005\n",
      "28               8         MTTF        Equipment1  0.005\n",
      "29               8         MTTF        Equipment2  0.005\n",
      "30               8         MTTR        Equipment3  0.005\n",
      "31               8         MTTR        Equipment4  0.005\n",
      "32               9         MTTF        Equipment1  0.005\n",
      "33               9         MTTF        Equipment2  0.005\n",
      "34               9         MTTR        Equipment3  0.005\n",
      "35               9         MTTR        Equipment4  0.005\n",
      "36              10         MTTF        Equipment1  0.005\n",
      "37              10         MTTF        Equipment2  0.005\n",
      "38              10         MTTR        Equipment3  0.005\n",
      "39              10         MTTR        Equipment4  0.005\n"
     ]
    }
   ],
   "source": [
    "conn = pyodbc.connect('DRIVER='+driver+';SERVER='+server+';PORT=1433;DATABASE='+database+';UID='+username+';PWD='+ password)\n",
    "query = 'SELECT * FROM simulationInputs'\n",
    "df = pd.read_sql(query,conn)\n",
    "print(df)\n",
    "conn.close()"
   ]
  },
  {
   "cell_type": "markdown",
   "metadata": {},
   "source": [
    "## Add some Data Manually"
   ]
  },
  {
   "cell_type": "code",
   "execution_count": 4,
   "metadata": {},
   "outputs": [],
   "source": [
    "# conn = pyodbc.connect('DRIVER='+driver+';SERVER='+server+';PORT=1433;DATABASE='+database+';UID='+username+';PWD='+ password)\n",
    "# cursor = conn.cursor()\n",
    "# cursor.execute('''\n",
    "#                 INSERT INTO Testing (Column1, Column2, Column3, Column4)\n",
    "#                 VALUES\n",
    "#                 (1,'ManualTest','ManualTest', 0),\n",
    "#                 (2, 'ManualTest','ManualTest', 0)\n",
    "#                 ''')\n",
    "# conn.commit()\n",
    "# conn.close()"
   ]
  },
  {
   "cell_type": "markdown",
   "metadata": {},
   "source": [
    "## Upload a CSV to SQL table"
   ]
  },
  {
   "cell_type": "markdown",
   "metadata": {},
   "source": [
    "### Import lookup csv"
   ]
  },
  {
   "cell_type": "code",
   "execution_count": 22,
   "metadata": {},
   "outputs": [
    {
     "name": "stdout",
     "output_type": "stream",
     "text": [
      "Uploaded CSV\n"
     ]
    }
   ],
   "source": [
    "df2 = pd.read_csv(\"simulationLookUpTable.csv\")\n",
    "cnxn = pyodbc.connect('DRIVER='+driver+';SERVER='+server+';PORT=1433;DATABASE='+database+';UID='+username+';PWD='+ password)\n",
    "cursor = cnxn.cursor()\n",
    "# Insert Dataframe into SQL Server:\n",
    "for index, row in df2.iterrows():\n",
    "    cursor.execute(\"INSERT INTO simulationLookUpTable (PrimaryKey, CaseName, Loaded) values(?,?,?)\", row.PrimaryKey,  row.CaseName, row.Loaded)\n",
    "cnxn.commit()\n",
    "cursor.close()\n",
    "print(\"Uploaded CSV\")"
   ]
  },
  {
   "cell_type": "markdown",
   "metadata": {},
   "source": [
    "### Import input csv"
   ]
  },
  {
   "cell_type": "code",
   "execution_count": 24,
   "metadata": {},
   "outputs": [
    {
     "name": "stdout",
     "output_type": "stream",
     "text": [
      "Uploaded CSV\n"
     ]
    }
   ],
   "source": [
    "df2 = pd.read_csv(\"simulationInputs.csv\")\n",
    "cnxn = pyodbc.connect('DRIVER='+driver+';SERVER='+server+';PORT=1433;DATABASE='+database+';UID='+username+';PWD='+ password)\n",
    "cursor = cnxn.cursor()\n",
    "# Insert Dataframe into SQL Server:\n",
    "for index, row in df2.iterrows():\n",
    "    cursor.execute(\"INSERT INTO simulationInputs (simulationCase, VariableName, SecondaryVariable, Value) values(?,?,?,?)\", row.simulationCase,  row.VariableName, row.SecondaryVariable, row.Value)\n",
    "cnxn.commit()\n",
    "cursor.close()\n",
    "print(\"Uploaded CSV\")"
   ]
  },
  {
   "cell_type": "markdown",
   "metadata": {},
   "source": [
    "## Clear Everything in SQL - KEEP Table"
   ]
  },
  {
   "cell_type": "code",
   "execution_count": 6,
   "metadata": {},
   "outputs": [
    {
     "name": "stdout",
     "output_type": "stream",
     "text": [
      "Remove all data from table\n"
     ]
    }
   ],
   "source": [
    "cnxn = pyodbc.connect('DRIVER='+driver+';SERVER='+server+';PORT=1433;DATABASE='+database+';UID='+username+';PWD='+ password)\n",
    "cursor = cnxn.cursor()\n",
    "cursor.execute(\"TRUNCATE TABLE Testing\")\n",
    "cnxn.commit()\n",
    "cursor.close()\n",
    "print(\"Remove all data from table\")"
   ]
  },
  {
   "cell_type": "markdown",
   "metadata": {},
   "source": [
    "## Delete Table"
   ]
  },
  {
   "cell_type": "code",
   "execution_count": 4,
   "metadata": {},
   "outputs": [
    {
     "name": "stdout",
     "output_type": "stream",
     "text": [
      "Table Deleted\n"
     ]
    }
   ],
   "source": [
    "conn = pyodbc.connect('DRIVER='+driver+';SERVER='+server+';PORT=1433;DATABASE='+database+';UID='+username+';PWD='+ password)\n",
    "cursor = conn.cursor()\n",
    "cursor.execute('''DROP TABLE Testing ;''')\n",
    "conn.commit()\n",
    "conn.close()\n",
    "print(\"Table Deleted\")"
   ]
  },
  {
   "cell_type": "code",
   "execution_count": null,
   "metadata": {},
   "outputs": [],
   "source": []
  }
 ],
 "metadata": {
  "kernelspec": {
   "display_name": "Python 3",
   "language": "python",
   "name": "python3"
  },
  "language_info": {
   "codemirror_mode": {
    "name": "ipython",
    "version": 3
   },
   "file_extension": ".py",
   "mimetype": "text/x-python",
   "name": "python",
   "nbconvert_exporter": "python",
   "pygments_lexer": "ipython3",
   "version": "3.7.4"
  },
  "latex_envs": {
   "LaTeX_envs_menu_present": true,
   "autoclose": false,
   "autocomplete": true,
   "bibliofile": "biblio.bib",
   "cite_by": "apalike",
   "current_citInitial": 1,
   "eqLabelWithNumbers": true,
   "eqNumInitial": 1,
   "hotkeys": {
    "equation": "Ctrl-E",
    "itemize": "Ctrl-I"
   },
   "labels_anchors": false,
   "latex_user_defs": false,
   "report_style_numbering": false,
   "user_envs_cfg": false
  },
  "toc": {
   "base_numbering": 1,
   "nav_menu": {},
   "number_sections": true,
   "sideBar": true,
   "skip_h1_title": false,
   "title_cell": "Table of Contents",
   "title_sidebar": "Contents",
   "toc_cell": false,
   "toc_position": {
    "height": "calc(100% - 180px)",
    "left": "10px",
    "top": "150px",
    "width": "263px"
   },
   "toc_section_display": true,
   "toc_window_display": true
  },
  "varInspector": {
   "cols": {
    "lenName": 16,
    "lenType": 16,
    "lenVar": 40
   },
   "kernels_config": {
    "python": {
     "delete_cmd_postfix": "",
     "delete_cmd_prefix": "del ",
     "library": "var_list.py",
     "varRefreshCmd": "print(var_dic_list())"
    },
    "r": {
     "delete_cmd_postfix": ") ",
     "delete_cmd_prefix": "rm(",
     "library": "var_list.r",
     "varRefreshCmd": "cat(var_dic_list()) "
    }
   },
   "types_to_exclude": [
    "module",
    "function",
    "builtin_function_or_method",
    "instance",
    "_Feature"
   ],
   "window_display": false
  }
 },
 "nbformat": 4,
 "nbformat_minor": 2
}
